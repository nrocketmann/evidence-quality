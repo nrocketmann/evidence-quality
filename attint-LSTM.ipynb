{
 "cells": [
  {
   "cell_type": "code",
   "execution_count": 1,
   "metadata": {},
   "outputs": [],
   "source": [
    "from LSTMBackbone import LSTMBackbone,DumbTokenizer,make_model_datasets_test\n",
    "from Trainer import Trainer\n",
    "import pandas as pd\n",
    "import numpy as np\n",
    "import torch\n",
    "from torch import nn"
   ]
  },
  {
   "cell_type": "code",
   "execution_count": 2,
   "metadata": {},
   "outputs": [],
   "source": [
    "device = 'cpu'\n",
    "batch_size=16\n",
    "SAVEPATH = \"modelLSTMAttention.pth\""
   ]
  },
  {
   "cell_type": "code",
   "execution_count": 3,
   "metadata": {},
   "outputs": [],
   "source": [
    "def get_datas(df):\n",
    "    evidences =  np.concatenate([df['evidence_1'].values, df['evidence_2'].values],axis=0)\n",
    "    procon1 = df['evidence_1_stance'].apply(lambda x: 0 if x==\"CON\" else 1)\n",
    "    procon2 = df['evidence_2_stance'].apply(lambda x: 0 if x==\"CON\" else 1)\n",
    "    procons = np.stack([procon1.values,procon2.values],axis=-1)\n",
    "    topics = df['topic'].values\n",
    "    targets = df['label'].values-1\n",
    "    return topics, evidences, procons, targets"
   ]
  },
  {
   "cell_type": "code",
   "execution_count": 4,
   "metadata": {},
   "outputs": [],
   "source": [
    "backbone = torch.load(SAVEPATH).to(device)\n",
    "\n",
    "df = pd.read_csv('data/test.csv')\n",
    "topics, evidences, procons, targets = get_datas(df)\n",
    "evidences, topics = make_model_datasets_test(topics, evidences, device,'token_dictionary.pkl')"
   ]
  },
  {
   "cell_type": "code",
   "execution_count": 5,
   "metadata": {},
   "outputs": [
    {
     "name": "stdout",
     "output_type": "stream",
     "text": [
      "Model and data loaded! Beginning testing\n"
     ]
    }
   ],
   "source": [
    "tokenizer = DumbTokenizer(device)\n",
    "trainer = Trainer(backbone, tokenizer, topics, evidences, procons, targets, \n",
    "    device=device, batch_size=batch_size, shuffle=False, valsize=0)\n",
    "print(\"Model and data loaded! Beginning testing\")"
   ]
  },
  {
   "cell_type": "code",
   "execution_count": 6,
   "metadata": {},
   "outputs": [
    {
     "name": "stderr",
     "output_type": "stream",
     "text": [
      "2it [00:00,  7.31it/s]"
     ]
    },
    {
     "name": "stdout",
     "output_type": "stream",
     "text": [
      "torch.Size([16, 7, 46]) torch.Size([16, 7, 49])\n",
      "torch.Size([16, 8, 50]) torch.Size([16, 8, 50])\n"
     ]
    },
    {
     "name": "stderr",
     "output_type": "stream",
     "text": [
      "4it [00:00,  9.09it/s]"
     ]
    },
    {
     "name": "stdout",
     "output_type": "stream",
     "text": [
      "torch.Size([16, 11, 41]) torch.Size([16, 11, 46])\n",
      "torch.Size([16, 11, 50]) torch.Size([16, 11, 50])\n",
      "torch.Size([16, 7, 50]) torch.Size([16, 7, 50])\n"
     ]
    },
    {
     "name": "stderr",
     "output_type": "stream",
     "text": [
      "8it [00:00, 10.46it/s]"
     ]
    },
    {
     "name": "stdout",
     "output_type": "stream",
     "text": [
      "torch.Size([16, 8, 49]) torch.Size([16, 8, 50])\n",
      "torch.Size([16, 11, 50]) torch.Size([16, 11, 46])\n",
      "torch.Size([16, 11, 48]) torch.Size([16, 11, 41])\n"
     ]
    },
    {
     "name": "stderr",
     "output_type": "stream",
     "text": [
      "10it [00:00, 11.44it/s]"
     ]
    },
    {
     "name": "stdout",
     "output_type": "stream",
     "text": [
      "torch.Size([16, 11, 46]) torch.Size([16, 11, 45])\n",
      "torch.Size([16, 7, 43]) torch.Size([16, 7, 44])\n",
      "torch.Size([16, 7, 44]) torch.Size([16, 7, 41])\n"
     ]
    },
    {
     "name": "stderr",
     "output_type": "stream",
     "text": [
      "14it [00:01, 11.18it/s]"
     ]
    },
    {
     "name": "stdout",
     "output_type": "stream",
     "text": [
      "torch.Size([16, 11, 50]) torch.Size([16, 11, 49])\n",
      "torch.Size([16, 7, 40]) torch.Size([16, 7, 42])\n",
      "torch.Size([16, 11, 39]) torch.Size([16, 11, 39])\n"
     ]
    },
    {
     "name": "stderr",
     "output_type": "stream",
     "text": [
      "16it [00:01, 11.83it/s]"
     ]
    },
    {
     "name": "stdout",
     "output_type": "stream",
     "text": [
      "torch.Size([16, 11, 44]) torch.Size([16, 11, 37])\n",
      "torch.Size([16, 11, 44]) torch.Size([16, 11, 41])\n",
      "torch.Size([16, 11, 42]) torch.Size([16, 11, 50])\n"
     ]
    },
    {
     "name": "stderr",
     "output_type": "stream",
     "text": [
      "20it [00:01, 11.98it/s]"
     ]
    },
    {
     "name": "stdout",
     "output_type": "stream",
     "text": [
      "torch.Size([16, 11, 40]) torch.Size([16, 11, 39])\n",
      "torch.Size([16, 11, 42]) torch.Size([16, 11, 45])\n",
      "torch.Size([16, 11, 47]) torch.Size([16, 11, 49])\n"
     ]
    },
    {
     "name": "stderr",
     "output_type": "stream",
     "text": [
      "22it [00:01, 12.20it/s]"
     ]
    },
    {
     "name": "stdout",
     "output_type": "stream",
     "text": [
      "torch.Size([16, 11, 43]) torch.Size([16, 11, 45])\n",
      "torch.Size([16, 11, 44]) torch.Size([16, 11, 41])\n",
      "torch.Size([16, 11, 39]) torch.Size([16, 11, 44])\n"
     ]
    },
    {
     "name": "stderr",
     "output_type": "stream",
     "text": [
      "26it [00:02, 13.00it/s]"
     ]
    },
    {
     "name": "stdout",
     "output_type": "stream",
     "text": [
      "torch.Size([16, 11, 41]) torch.Size([16, 11, 50])\n",
      "torch.Size([16, 11, 40]) torch.Size([16, 11, 33])\n",
      "torch.Size([16, 11, 40]) torch.Size([16, 11, 41])\n"
     ]
    },
    {
     "name": "stderr",
     "output_type": "stream",
     "text": [
      "30it [00:02, 14.27it/s]"
     ]
    },
    {
     "name": "stdout",
     "output_type": "stream",
     "text": [
      "torch.Size([16, 11, 44]) torch.Size([16, 11, 43])\n",
      "torch.Size([16, 7, 41]) torch.Size([16, 7, 50])\n",
      "torch.Size([16, 11, 39]) torch.Size([16, 11, 43])\n",
      "torch.Size([16, 11, 50]) torch.Size([16, 11, 49])\n"
     ]
    },
    {
     "name": "stderr",
     "output_type": "stream",
     "text": [
      "34it [00:02, 14.88it/s]"
     ]
    },
    {
     "name": "stdout",
     "output_type": "stream",
     "text": [
      "torch.Size([16, 11, 40]) torch.Size([16, 11, 41])\n",
      "torch.Size([16, 11, 41]) torch.Size([16, 11, 41])\n",
      "torch.Size([16, 11, 44]) torch.Size([16, 11, 34])\n",
      "torch.Size([16, 11, 41]) torch.Size([16, 11, 35])\n"
     ]
    },
    {
     "name": "stderr",
     "output_type": "stream",
     "text": [
      "36it [00:02, 14.43it/s]"
     ]
    },
    {
     "name": "stdout",
     "output_type": "stream",
     "text": [
      "torch.Size([16, 11, 41]) torch.Size([16, 11, 50])\n",
      "torch.Size([16, 11, 41]) torch.Size([16, 11, 36])\n",
      "torch.Size([16, 11, 42]) torch.Size([16, 11, 49])\n"
     ]
    },
    {
     "name": "stderr",
     "output_type": "stream",
     "text": [
      "40it [00:03, 14.09it/s]"
     ]
    },
    {
     "name": "stdout",
     "output_type": "stream",
     "text": [
      "torch.Size([16, 11, 41]) torch.Size([16, 11, 46])\n",
      "torch.Size([16, 11, 49]) torch.Size([16, 11, 43])\n",
      "torch.Size([16, 7, 41]) torch.Size([16, 7, 50])\n"
     ]
    },
    {
     "name": "stderr",
     "output_type": "stream",
     "text": [
      "44it [00:03, 14.37it/s]"
     ]
    },
    {
     "name": "stdout",
     "output_type": "stream",
     "text": [
      "torch.Size([16, 11, 50]) torch.Size([16, 11, 50])\n",
      "torch.Size([16, 11, 42]) torch.Size([16, 11, 50])\n",
      "torch.Size([16, 11, 50]) torch.Size([16, 11, 49])\n",
      "torch.Size([16, 7, 41]) torch.Size([16, 7, 42])\n"
     ]
    },
    {
     "name": "stderr",
     "output_type": "stream",
     "text": [
      "46it [00:03, 14.39it/s]"
     ]
    },
    {
     "name": "stdout",
     "output_type": "stream",
     "text": [
      "torch.Size([16, 11, 47]) torch.Size([16, 11, 49])\n",
      "torch.Size([16, 6, 40]) torch.Size([16, 6, 41])\n",
      "torch.Size([16, 7, 46]) torch.Size([16, 7, 50])\n"
     ]
    },
    {
     "name": "stderr",
     "output_type": "stream",
     "text": [
      "50it [00:03, 13.88it/s]"
     ]
    },
    {
     "name": "stdout",
     "output_type": "stream",
     "text": [
      "torch.Size([16, 11, 44]) torch.Size([16, 11, 48])\n",
      "torch.Size([16, 11, 47]) torch.Size([16, 11, 50])\n",
      "torch.Size([16, 11, 44]) torch.Size([16, 11, 44])\n"
     ]
    },
    {
     "name": "stderr",
     "output_type": "stream",
     "text": [
      "52it [00:04,  9.69it/s]"
     ]
    },
    {
     "name": "stdout",
     "output_type": "stream",
     "text": [
      "torch.Size([16, 11, 44]) torch.Size([16, 11, 41])\n",
      "torch.Size([16, 11, 40]) torch.Size([16, 11, 39])\n",
      "torch.Size([16, 7, 41]) torch.Size([16, 7, 35])\n"
     ]
    },
    {
     "name": "stderr",
     "output_type": "stream",
     "text": [
      "56it [00:04, 11.44it/s]"
     ]
    },
    {
     "name": "stdout",
     "output_type": "stream",
     "text": [
      "torch.Size([16, 11, 44]) torch.Size([16, 11, 42])\n",
      "torch.Size([16, 11, 44]) torch.Size([16, 11, 48])\n",
      "torch.Size([16, 11, 46]) torch.Size([16, 11, 40])\n"
     ]
    },
    {
     "name": "stderr",
     "output_type": "stream",
     "text": [
      "58it [00:04, 12.05it/s]"
     ]
    },
    {
     "name": "stdout",
     "output_type": "stream",
     "text": [
      "torch.Size([16, 11, 38]) torch.Size([16, 11, 37])\n",
      "torch.Size([16, 11, 49]) torch.Size([16, 11, 49])\n",
      "torch.Size([16, 11, 41]) torch.Size([16, 11, 39])\n"
     ]
    },
    {
     "name": "stderr",
     "output_type": "stream",
     "text": [
      "62it [00:05, 11.89it/s]"
     ]
    },
    {
     "name": "stdout",
     "output_type": "stream",
     "text": [
      "torch.Size([16, 11, 47]) torch.Size([16, 11, 44])\n",
      "torch.Size([16, 11, 44]) torch.Size([16, 11, 50])\n",
      "torch.Size([16, 11, 44]) torch.Size([16, 11, 49])\n"
     ]
    },
    {
     "name": "stderr",
     "output_type": "stream",
     "text": [
      "64it [00:05, 12.57it/s]"
     ]
    },
    {
     "name": "stdout",
     "output_type": "stream",
     "text": [
      "torch.Size([16, 7, 44]) torch.Size([16, 7, 38])\n",
      "torch.Size([16, 11, 42]) torch.Size([16, 11, 39])\n",
      "torch.Size([16, 11, 50]) torch.Size([16, 11, 50])\n"
     ]
    },
    {
     "name": "stderr",
     "output_type": "stream",
     "text": [
      "68it [00:05, 12.96it/s]"
     ]
    },
    {
     "name": "stdout",
     "output_type": "stream",
     "text": [
      "torch.Size([16, 7, 44]) torch.Size([16, 7, 50])\n",
      "torch.Size([16, 11, 39]) torch.Size([16, 11, 37])\n",
      "torch.Size([16, 11, 44]) torch.Size([16, 11, 41])\n"
     ]
    },
    {
     "name": "stderr",
     "output_type": "stream",
     "text": [
      "70it [00:05, 12.75it/s]"
     ]
    },
    {
     "name": "stdout",
     "output_type": "stream",
     "text": [
      "torch.Size([16, 11, 46]) torch.Size([16, 11, 41])\n",
      "torch.Size([16, 11, 44]) torch.Size([16, 11, 49])\n",
      "torch.Size([16, 11, 49]) torch.Size([16, 11, 44])\n"
     ]
    },
    {
     "name": "stderr",
     "output_type": "stream",
     "text": [
      "74it [00:05, 14.13it/s]"
     ]
    },
    {
     "name": "stdout",
     "output_type": "stream",
     "text": [
      "torch.Size([16, 11, 50]) torch.Size([16, 11, 48])\n",
      "torch.Size([16, 11, 36]) torch.Size([16, 11, 42])\n",
      "torch.Size([16, 11, 36]) torch.Size([16, 11, 45])\n",
      "torch.Size([16, 11, 37]) torch.Size([16, 11, 42])\n"
     ]
    },
    {
     "name": "stderr",
     "output_type": "stream",
     "text": [
      "76it [00:06, 14.63it/s]"
     ]
    },
    {
     "name": "stdout",
     "output_type": "stream",
     "text": [
      "torch.Size([16, 11, 50]) torch.Size([16, 11, 44])\n",
      "torch.Size([16, 11, 47]) torch.Size([16, 11, 48])\n"
     ]
    },
    {
     "name": "stderr",
     "output_type": "stream",
     "text": [
      "78it [00:06, 12.07it/s]"
     ]
    },
    {
     "name": "stdout",
     "output_type": "stream",
     "text": [
      "torch.Size([16, 11, 44]) torch.Size([16, 11, 50])\n",
      "torch.Size([16, 11, 44]) torch.Size([16, 11, 49])\n"
     ]
    },
    {
     "name": "stderr",
     "output_type": "stream",
     "text": [
      "82it [00:06, 10.94it/s]"
     ]
    },
    {
     "name": "stdout",
     "output_type": "stream",
     "text": [
      "torch.Size([16, 11, 36]) torch.Size([16, 11, 41])\n",
      "torch.Size([16, 11, 49]) torch.Size([16, 11, 50])\n",
      "torch.Size([16, 11, 41]) torch.Size([16, 11, 41])\n"
     ]
    },
    {
     "name": "stderr",
     "output_type": "stream",
     "text": [
      "84it [00:06, 11.47it/s]"
     ]
    },
    {
     "name": "stdout",
     "output_type": "stream",
     "text": [
      "torch.Size([16, 11, 41]) torch.Size([16, 11, 43])\n",
      "torch.Size([16, 11, 48]) torch.Size([16, 11, 42])\n",
      "torch.Size([16, 11, 40]) torch.Size([16, 11, 38])\n"
     ]
    },
    {
     "name": "stderr",
     "output_type": "stream",
     "text": [
      "87it [00:07, 11.94it/s]"
     ]
    },
    {
     "name": "stdout",
     "output_type": "stream",
     "text": [
      "torch.Size([16, 11, 38]) torch.Size([16, 11, 36])\n",
      "torch.Size([2, 11, 44]) torch.Size([2, 11, 44])\n",
      "1378\n",
      "87\n",
      "0.6407837445573294\n"
     ]
    },
    {
     "name": "stderr",
     "output_type": "stream",
     "text": [
      "\n"
     ]
    }
   ],
   "source": [
    "acc, w_list = trainer.evaluate()\n",
    "print(acc)"
   ]
  },
  {
   "cell_type": "code",
   "execution_count": 21,
   "metadata": {},
   "outputs": [],
   "source": [
    "top, evi, _, _ = get_datas(df)"
   ]
  },
  {
   "cell_type": "code",
   "execution_count": 39,
   "metadata": {},
   "outputs": [
    {
     "name": "stdout",
     "output_type": "stream",
     "text": [
      "torch.Size([7, 46])\n",
      "torch.Size([7, 49])\n"
     ]
    },
    {
     "data": {
      "text/plain": [
       "tensor([[0.0096, 0.0062, 0.0062, 0.0062, 0.0062, 0.0062, 0.0062, 0.0062, 0.0062,\n",
       "         0.0062, 0.0062, 0.0062, 0.0062, 0.0062, 0.0062, 0.0062, 0.0062, 0.0062,\n",
       "         0.0062, 0.0062, 0.0062, 0.0062, 0.0062, 0.0062],\n",
       "        [0.0209, 0.0171, 0.0171, 0.0171, 0.0171, 0.0171, 0.0171, 0.0171, 0.0171,\n",
       "         0.0171, 0.0171, 0.0171, 0.0171, 0.0171, 0.0171, 0.0171, 0.0171, 0.0171,\n",
       "         0.0171, 0.0171, 0.0171, 0.0171, 0.0171, 0.0171],\n",
       "        [0.0224, 0.0148, 0.0148, 0.0148, 0.0148, 0.0148, 0.0148, 0.0148, 0.0148,\n",
       "         0.0148, 0.0148, 0.0148, 0.0148, 0.0148, 0.0148, 0.0148, 0.0148, 0.0148,\n",
       "         0.0148, 0.0148, 0.0148, 0.0148, 0.0148, 0.0148],\n",
       "        [0.0275, 0.0262, 0.0262, 0.0262, 0.0262, 0.0262, 0.0262, 0.0262, 0.0262,\n",
       "         0.0262, 0.0262, 0.0262, 0.0262, 0.0262, 0.0262, 0.0262, 0.0262, 0.0262,\n",
       "         0.0262, 0.0262, 0.0262, 0.0262, 0.0262, 0.0262],\n",
       "        [0.0213, 0.0121, 0.0121, 0.0121, 0.0121, 0.0121, 0.0121, 0.0121, 0.0121,\n",
       "         0.0121, 0.0121, 0.0121, 0.0121, 0.0121, 0.0121, 0.0121, 0.0121, 0.0121,\n",
       "         0.0121, 0.0121, 0.0121, 0.0121, 0.0121, 0.0121],\n",
       "        [0.0259, 0.0167, 0.0167, 0.0167, 0.0167, 0.0167, 0.0167, 0.0167, 0.0167,\n",
       "         0.0167, 0.0167, 0.0167, 0.0167, 0.0167, 0.0167, 0.0167, 0.0167, 0.0167,\n",
       "         0.0167, 0.0167, 0.0167, 0.0167, 0.0167, 0.0167],\n",
       "        [0.0259, 0.0167, 0.0167, 0.0167, 0.0167, 0.0167, 0.0167, 0.0167, 0.0167,\n",
       "         0.0167, 0.0167, 0.0167, 0.0167, 0.0167, 0.0167, 0.0167, 0.0167, 0.0167,\n",
       "         0.0167, 0.0167, 0.0167, 0.0167, 0.0167, 0.0167]],\n",
       "       grad_fn=<SliceBackward0>)"
      ]
     },
     "execution_count": 39,
     "metadata": {},
     "output_type": "execute_result"
    }
   ],
   "source": [
    "w1, w2 = w_list[0]\n",
    "print(w1[0,:,:].shape)\n",
    "print(w2[0,:,:].shape)\n",
    "\n",
    "w1[0,:,22:46]"
   ]
  },
  {
   "cell_type": "code",
   "execution_count": 40,
   "metadata": {},
   "outputs": [
    {
     "data": {
      "text/plain": [
       "'We should ban the sale of violent video games to minors'"
      ]
     },
     "execution_count": 40,
     "metadata": {},
     "output_type": "execute_result"
    }
   ],
   "source": [
    "top[44]"
   ]
  },
  {
   "cell_type": "code",
   "execution_count": 57,
   "metadata": {},
   "outputs": [
    {
     "data": {
      "text/plain": [
       "27"
      ]
     },
     "execution_count": 57,
     "metadata": {},
     "output_type": "execute_result"
    }
   ],
   "source": [
    "pro1 = evi[44]\n",
    "len(pro1.split(' '))"
   ]
  },
  {
   "cell_type": "code",
   "execution_count": 67,
   "metadata": {},
   "outputs": [
    {
     "data": {
      "text/plain": [
       "24"
      ]
     },
     "execution_count": 67,
     "metadata": {},
     "output_type": "execute_result"
    }
   ],
   "source": [
    "pro2 = evi[1378 + 44]\n",
    "len(pro2.split(' '))"
   ]
  },
  {
   "cell_type": "code",
   "execution_count": 72,
   "metadata": {},
   "outputs": [
    {
     "name": "stdout",
     "output_type": "stream",
     "text": [
      "tensor([[0.0141, 0.0144, 0.0144, 0.0144, 0.0144, 0.0144, 0.0144, 0.0144, 0.0144,\n",
      "         0.0144, 0.0144, 0.0144, 0.0144, 0.0144, 0.0144, 0.0144, 0.0144, 0.0144,\n",
      "         0.0144, 0.0144, 0.0144, 0.0144, 0.0144, 0.0144, 0.0144],\n",
      "        [0.0001, 0.0053, 0.0053, 0.0053, 0.0053, 0.0053, 0.0053, 0.0053, 0.0053,\n",
      "         0.0053, 0.0053, 0.0053, 0.0053, 0.0053, 0.0053, 0.0053, 0.0053, 0.0053,\n",
      "         0.0053, 0.0053, 0.0053, 0.0053, 0.0053, 0.0053, 0.0053],\n",
      "        [0.0004, 0.0066, 0.0066, 0.0066, 0.0066, 0.0066, 0.0066, 0.0066, 0.0066,\n",
      "         0.0066, 0.0066, 0.0066, 0.0066, 0.0066, 0.0066, 0.0066, 0.0066, 0.0066,\n",
      "         0.0066, 0.0066, 0.0066, 0.0066, 0.0066, 0.0066, 0.0066],\n",
      "        [0.0002, 0.0074, 0.0074, 0.0074, 0.0074, 0.0074, 0.0074, 0.0074, 0.0074,\n",
      "         0.0074, 0.0074, 0.0074, 0.0074, 0.0074, 0.0074, 0.0074, 0.0074, 0.0074,\n",
      "         0.0074, 0.0074, 0.0074, 0.0074, 0.0074, 0.0074, 0.0074],\n",
      "        [0.0030, 0.0119, 0.0119, 0.0119, 0.0119, 0.0119, 0.0119, 0.0119, 0.0119,\n",
      "         0.0119, 0.0119, 0.0119, 0.0119, 0.0119, 0.0119, 0.0119, 0.0119, 0.0119,\n",
      "         0.0119, 0.0119, 0.0119, 0.0119, 0.0119, 0.0119, 0.0119],\n",
      "        [0.0042, 0.0153, 0.0153, 0.0153, 0.0153, 0.0153, 0.0153, 0.0153, 0.0153,\n",
      "         0.0153, 0.0153, 0.0153, 0.0153, 0.0153, 0.0153, 0.0153, 0.0153, 0.0153,\n",
      "         0.0153, 0.0153, 0.0153, 0.0153, 0.0153, 0.0153, 0.0153],\n",
      "        [0.0086, 0.0189, 0.0189, 0.0189, 0.0189, 0.0189, 0.0189, 0.0189, 0.0189,\n",
      "         0.0189, 0.0189, 0.0189, 0.0189, 0.0189, 0.0189, 0.0189, 0.0189, 0.0189,\n",
      "         0.0189, 0.0189, 0.0189, 0.0189, 0.0189, 0.0189, 0.0189],\n",
      "        [0.0135, 0.0194, 0.0194, 0.0194, 0.0194, 0.0194, 0.0194, 0.0194, 0.0194,\n",
      "         0.0194, 0.0194, 0.0194, 0.0194, 0.0194, 0.0194, 0.0194, 0.0194, 0.0194,\n",
      "         0.0194, 0.0194, 0.0194, 0.0194, 0.0194, 0.0194, 0.0194],\n",
      "        [0.0103, 0.0175, 0.0175, 0.0175, 0.0175, 0.0175, 0.0175, 0.0175, 0.0175,\n",
      "         0.0175, 0.0175, 0.0175, 0.0175, 0.0175, 0.0175, 0.0175, 0.0175, 0.0175,\n",
      "         0.0175, 0.0175, 0.0175, 0.0175, 0.0175, 0.0175, 0.0175],\n",
      "        [0.0053, 0.0135, 0.0135, 0.0135, 0.0135, 0.0135, 0.0135, 0.0135, 0.0135,\n",
      "         0.0135, 0.0135, 0.0135, 0.0135, 0.0135, 0.0135, 0.0135, 0.0135, 0.0135,\n",
      "         0.0135, 0.0135, 0.0135, 0.0135, 0.0135, 0.0135, 0.0135],\n",
      "        [0.0087, 0.0151, 0.0151, 0.0151, 0.0151, 0.0151, 0.0151, 0.0151, 0.0151,\n",
      "         0.0151, 0.0151, 0.0151, 0.0151, 0.0151, 0.0151, 0.0151, 0.0151, 0.0151,\n",
      "         0.0151, 0.0151, 0.0151, 0.0151, 0.0151, 0.0151, 0.0151]],\n",
      "       grad_fn=<SliceBackward0>)\n"
     ]
    }
   ],
   "source": [
    "w1, w2 = w_list[2]\n",
    "# print(w1[11,:,26:])\n",
    "print(w2[11,:,21:])"
   ]
  },
  {
   "cell_type": "code",
   "execution_count": 79,
   "metadata": {},
   "outputs": [
    {
     "name": "stdout",
     "output_type": "stream",
     "text": [
      "23\n"
     ]
    },
    {
     "data": {
      "text/plain": [
       "tensor([[[0.0326, 0.0326],\n",
       "         [0.0224, 0.0224],\n",
       "         [0.0291, 0.0291],\n",
       "         [0.0292, 0.0292],\n",
       "         [0.0258, 0.0258],\n",
       "         [0.0258, 0.0258],\n",
       "         [0.0258, 0.0258],\n",
       "         [0.0258, 0.0258],\n",
       "         [0.0258, 0.0258],\n",
       "         [0.0258, 0.0258],\n",
       "         [0.0258, 0.0258]],\n",
       "\n",
       "        [[0.0191, 0.0191],\n",
       "         [0.0061, 0.0061],\n",
       "         [0.0093, 0.0093],\n",
       "         [0.0087, 0.0087],\n",
       "         [0.0145, 0.0145],\n",
       "         [0.0145, 0.0145],\n",
       "         [0.0145, 0.0145],\n",
       "         [0.0145, 0.0145],\n",
       "         [0.0145, 0.0145],\n",
       "         [0.0145, 0.0145],\n",
       "         [0.0145, 0.0145]],\n",
       "\n",
       "        [[0.0086, 0.0086],\n",
       "         [0.0023, 0.0023],\n",
       "         [0.0034, 0.0034],\n",
       "         [0.0030, 0.0030],\n",
       "         [0.0078, 0.0078],\n",
       "         [0.0108, 0.0108],\n",
       "         [0.0183, 0.0183],\n",
       "         [0.0194, 0.0194],\n",
       "         [0.0163, 0.0163],\n",
       "         [0.0113, 0.0113],\n",
       "         [0.0132, 0.0132]],\n",
       "\n",
       "        [[0.0227, 0.0227],\n",
       "         [0.0134, 0.0134],\n",
       "         [0.0177, 0.0177],\n",
       "         [0.0181, 0.0181],\n",
       "         [0.0197, 0.0197],\n",
       "         [0.0190, 0.0190],\n",
       "         [0.0190, 0.0190],\n",
       "         [0.0190, 0.0190],\n",
       "         [0.0190, 0.0190],\n",
       "         [0.0190, 0.0190],\n",
       "         [0.0190, 0.0190]],\n",
       "\n",
       "        [[0.0069, 0.0069],\n",
       "         [0.0179, 0.0179],\n",
       "         [0.0122, 0.0122],\n",
       "         [0.0197, 0.0197],\n",
       "         [0.0224, 0.0224],\n",
       "         [0.0206, 0.0206],\n",
       "         [0.0125, 0.0125],\n",
       "         [0.0096, 0.0096],\n",
       "         [0.0173, 0.0173],\n",
       "         [0.0173, 0.0173],\n",
       "         [0.0173, 0.0173]],\n",
       "\n",
       "        [[0.0086, 0.0086],\n",
       "         [0.0023, 0.0023],\n",
       "         [0.0034, 0.0034],\n",
       "         [0.0030, 0.0030],\n",
       "         [0.0078, 0.0078],\n",
       "         [0.0108, 0.0108],\n",
       "         [0.0183, 0.0183],\n",
       "         [0.0194, 0.0194],\n",
       "         [0.0163, 0.0163],\n",
       "         [0.0113, 0.0113],\n",
       "         [0.0132, 0.0132]],\n",
       "\n",
       "        [[0.0154, 0.0154],\n",
       "         [0.0068, 0.0068],\n",
       "         [0.0105, 0.0105],\n",
       "         [0.0096, 0.0096],\n",
       "         [0.0154, 0.0154],\n",
       "         [0.0154, 0.0154],\n",
       "         [0.0154, 0.0154],\n",
       "         [0.0154, 0.0154],\n",
       "         [0.0154, 0.0154],\n",
       "         [0.0154, 0.0154],\n",
       "         [0.0154, 0.0154]],\n",
       "\n",
       "        [[0.0162, 0.0162],\n",
       "         [0.0169, 0.0169],\n",
       "         [0.0198, 0.0198],\n",
       "         [0.0197, 0.0197],\n",
       "         [0.0225, 0.0225],\n",
       "         [0.0281, 0.0281],\n",
       "         [0.0294, 0.0294],\n",
       "         [0.0294, 0.0294],\n",
       "         [0.0294, 0.0294],\n",
       "         [0.0294, 0.0294],\n",
       "         [0.0294, 0.0294]],\n",
       "\n",
       "        [[0.0131, 0.0131],\n",
       "         [0.0105, 0.0105],\n",
       "         [0.0113, 0.0113],\n",
       "         [0.0117, 0.0117],\n",
       "         [0.0138, 0.0138],\n",
       "         [0.0190, 0.0190],\n",
       "         [0.0226, 0.0226],\n",
       "         [0.0232, 0.0232],\n",
       "         [0.0217, 0.0217],\n",
       "         [0.0194, 0.0194],\n",
       "         [0.0185, 0.0185]],\n",
       "\n",
       "        [[0.0185, 0.0185],\n",
       "         [0.0078, 0.0078],\n",
       "         [0.0099, 0.0099],\n",
       "         [0.0093, 0.0093],\n",
       "         [0.0163, 0.0163],\n",
       "         [0.0163, 0.0163],\n",
       "         [0.0163, 0.0163],\n",
       "         [0.0163, 0.0163],\n",
       "         [0.0163, 0.0163],\n",
       "         [0.0163, 0.0163],\n",
       "         [0.0163, 0.0163]],\n",
       "\n",
       "        [[0.0188, 0.0188],\n",
       "         [0.0141, 0.0141],\n",
       "         [0.0170, 0.0170],\n",
       "         [0.0185, 0.0185],\n",
       "         [0.0178, 0.0178],\n",
       "         [0.0179, 0.0179],\n",
       "         [0.0179, 0.0179],\n",
       "         [0.0179, 0.0179],\n",
       "         [0.0179, 0.0179],\n",
       "         [0.0179, 0.0179],\n",
       "         [0.0179, 0.0179]],\n",
       "\n",
       "        [[0.0144, 0.0144],\n",
       "         [0.0053, 0.0053],\n",
       "         [0.0066, 0.0066],\n",
       "         [0.0074, 0.0074],\n",
       "         [0.0119, 0.0119],\n",
       "         [0.0153, 0.0153],\n",
       "         [0.0189, 0.0189],\n",
       "         [0.0194, 0.0194],\n",
       "         [0.0175, 0.0175],\n",
       "         [0.0135, 0.0135],\n",
       "         [0.0151, 0.0151]],\n",
       "\n",
       "        [[0.0146, 0.0146],\n",
       "         [0.0039, 0.0039],\n",
       "         [0.0035, 0.0035],\n",
       "         [0.0067, 0.0067],\n",
       "         [0.0071, 0.0071],\n",
       "         [0.0113, 0.0113],\n",
       "         [0.0171, 0.0171],\n",
       "         [0.0202, 0.0202],\n",
       "         [0.0167, 0.0167],\n",
       "         [0.0104, 0.0104],\n",
       "         [0.0127, 0.0127]],\n",
       "\n",
       "        [[0.0168, 0.0168],\n",
       "         [0.0135, 0.0135],\n",
       "         [0.0178, 0.0178],\n",
       "         [0.0165, 0.0165],\n",
       "         [0.0175, 0.0175],\n",
       "         [0.0175, 0.0175],\n",
       "         [0.0175, 0.0175],\n",
       "         [0.0175, 0.0175],\n",
       "         [0.0175, 0.0175],\n",
       "         [0.0175, 0.0175],\n",
       "         [0.0175, 0.0175]],\n",
       "\n",
       "        [[0.0291, 0.0202],\n",
       "         [0.0103, 0.0207],\n",
       "         [0.0171, 0.0280],\n",
       "         [0.0182, 0.0253],\n",
       "         [0.0140, 0.0250],\n",
       "         [0.0140, 0.0250],\n",
       "         [0.0140, 0.0250],\n",
       "         [0.0140, 0.0250],\n",
       "         [0.0140, 0.0250],\n",
       "         [0.0140, 0.0250],\n",
       "         [0.0140, 0.0250]],\n",
       "\n",
       "        [[0.0146, 0.0146],\n",
       "         [0.0039, 0.0039],\n",
       "         [0.0035, 0.0035],\n",
       "         [0.0067, 0.0067],\n",
       "         [0.0071, 0.0071],\n",
       "         [0.0113, 0.0113],\n",
       "         [0.0171, 0.0171],\n",
       "         [0.0202, 0.0202],\n",
       "         [0.0167, 0.0167],\n",
       "         [0.0104, 0.0104],\n",
       "         [0.0127, 0.0127]]], grad_fn=<SliceBackward0>)"
      ]
     },
     "execution_count": 79,
     "metadata": {},
     "output_type": "execute_result"
    }
   ],
   "source": [
    "print(len(evi[1378].split(' ')))\n",
    "w2[0:,:,44:]"
   ]
  },
  {
   "cell_type": "code",
   "execution_count": 113,
   "metadata": {},
   "outputs": [],
   "source": [
    "att = w1[11,:len(pro1.split(' ')), :len(pro1.split(' '))]\n",
    "# att = w1[11]"
   ]
  },
  {
   "cell_type": "code",
   "execution_count": 99,
   "metadata": {},
   "outputs": [
    {
     "data": {
      "text/plain": [
       "<Figure size 2000x1600 with 0 Axes>"
      ]
     },
     "execution_count": 99,
     "metadata": {},
     "output_type": "execute_result"
    },
    {
     "data": {
      "text/plain": [
       "<Figure size 2000x1600 with 0 Axes>"
      ]
     },
     "metadata": {},
     "output_type": "display_data"
    }
   ],
   "source": [
    "import matplotlib.pyplot as plt"
   ]
  },
  {
   "cell_type": "code",
   "execution_count": 115,
   "metadata": {},
   "outputs": [],
   "source": [
    "t_words = top[44].split(' ')\n",
    "p_words = pro1.split(' ')"
   ]
  },
  {
   "cell_type": "code",
   "execution_count": 116,
   "metadata": {},
   "outputs": [
    {
     "data": {
      "image/png": "[encoded data removed]",
      "text/plain": [
       "<Figure size 1440x1440 with 1 Axes>"
      ]
     },
     "metadata": {
      "needs_background": "light"
     },
     "output_type": "display_data"
    }
   ],
   "source": [
    "fig, axes = plt.subplots(figsize=(20, 20))\n",
    "axes.imshow(att.detach().cpu().numpy())\n",
    "axes.set_yticks(np.arange(len(t_words)))\n",
    "axes.set_yticklabels(t_words, fontsize=25)\n",
    "axes.set_xticks(np.arange(len(p_words)))\n",
    "axes.set_xticklabels(p_words, fontsize=25)\n",
    "plt.setp(axes.get_xticklabels(), rotation=45, ha=\"right\",\n",
    "rotation_mode=\"anchor\")\n",
    "plt.show()"
   ]
  },
  {
   "cell_type": "code",
   "execution_count": 117,
   "metadata": {},
   "outputs": [
    {
     "data": {
      "image/png": "[encoded data removed]",
      "text/plain": [
       "<Figure size 1080x1080 with 1 Axes>"
      ]
     },
     "metadata": {
      "needs_background": "light"
     },
     "output_type": "display_data"
    }
   ],
   "source": [
    "att = w2[11,:len(pro2.split(' ')), :len(pro2.split(' '))]\n",
    "# att = w2[11,:,:]\n",
    "t_words = top[44].split(' ')\n",
    "p_words = pro2.split(' ')\n",
    "fig, axes = plt.subplots(figsize=(15, 15))\n",
    "axes.imshow(att.detach().cpu().numpy())\n",
    "axes.set_yticks(np.arange(len(t_words)))\n",
    "axes.set_yticklabels(t_words, fontsize=25)\n",
    "axes.set_xticks(np.arange(len(p_words)))\n",
    "axes.set_xticklabels(p_words, fontsize=25)\n",
    "plt.setp(axes.get_xticklabels(), rotation=45, ha=\"right\",\n",
    "rotation_mode=\"anchor\")\n",
    "plt.show()"
   ]
  },
  {
   "cell_type": "code",
   "execution_count": 102,
   "metadata": {},
   "outputs": [],
   "source": [
    "import numpy as np\n",
    "\n",
    "latex_special_token = [\"!@#$%^&*()\"]\n",
    "\n",
    "def generate(text_list, attention_list, latex_file, color='red', rescale_value = False):\n",
    "\tassert(len(text_list) == len(attention_list))\n",
    "\tif rescale_value:\n",
    "\t\tattention_list = rescale(attention_list)\n",
    "\tword_num = len(text_list)\n",
    "\ttext_list = clean_word(text_list)\n",
    "\twith open(latex_file,'w') as f:\n",
    "\t\tf.write(r'''\\documentclass[varwidth]{standalone}\n",
    "\\special{papersize=210mm,297mm}\n",
    "\\usepackage{color}\n",
    "\\usepackage{tcolorbox}\n",
    "\\usepackage{CJK}\n",
    "\\usepackage{adjustbox}\n",
    "\\tcbset{width=0.9\\textwidth,boxrule=0pt,colback=red,arc=0pt,auto outer arc,left=0pt,right=0pt,boxsep=5pt}\n",
    "\\begin{document}\n",
    "\\begin{CJK*}{UTF8}{gbsn}'''+'\\n')\n",
    "\t\tstring = r'''{\\setlength{\\fboxsep}{0pt}\\colorbox{white!0}{\\parbox{0.9\\textwidth}{'''+\"\\n\"\n",
    "\t\tfor idx in range(word_num):\n",
    "\t\t\tstring += \"\\\\colorbox{%s!%s}{\"%(color, attention_list[idx])+\"\\\\strut \" + text_list[idx]+\"} \"\n",
    "\t\tstring += \"\\n}}}\"\n",
    "\t\tf.write(string+'\\n')\n",
    "\t\tf.write(r'''\\end{CJK*}\n",
    "\\end{document}''')\n",
    "\n",
    "def rescale(input_list):\n",
    "\tthe_array = np.asarray(input_list)\n",
    "\tthe_max = np.max(the_array)\n",
    "\tthe_min = np.min(the_array)\n",
    "\trescale = (the_array - the_min)/(the_max-the_min)*100\n",
    "\treturn rescale.tolist()\n",
    "\n",
    "\n",
    "def clean_word(word_list):\n",
    "\tnew_word_list = []\n",
    "\tfor word in word_list:\n",
    "\t\tfor latex_sensitive in [\"\\\\\", \"%\", \"&\", \"^\", \"#\", \"_\",  \"{\", \"}\"]:\n",
    "\t\t\tif latex_sensitive in word:\n",
    "\t\t\t\tword = word.replace(latex_sensitive, '\\\\'+latex_sensitive)\n",
    "\t\tnew_word_list.append(word)\n",
    "\treturn new_word_list"
   ]
  },
  {
   "cell_type": "code",
   "execution_count": 74,
   "metadata": {},
   "outputs": [],
   "source": [
    "def get_datas(df):\n",
    "    evidences =  np.concatenate([df['evidence_1'].values, df['evidence_2'].values],axis=0)\n",
    "    procon1 = df['evidence_1_stance'].apply(lambda x: 0 if x==\"CON\" else 1)\n",
    "    procon2 = df['evidence_2_stance'].apply(lambda x: 0 if x==\"CON\" else 1)\n",
    "    procons = np.stack([procon1.values,procon2.values],axis=-1)\n",
    "    topics = df['topic'].values\n",
    "    targets = df['label'].values - 1  # 0: the first evidence; 1: the second evidence\n",
    "    return topics, evidences, procons, targets"
   ]
  },
  {
   "cell_type": "code",
   "execution_count": 39,
   "metadata": {},
   "outputs": [
    {
     "data": {
      "text/plain": [
       "LSTMBackbone(\n",
       "  (emb_layer): Embedding(6979, 50, padding_idx=6978)\n",
       "  (lstm_ev): LSTM(50, 128, batch_first=True, bidirectional=True)\n",
       "  (lstm_top): LSTM(50, 128, batch_first=True, bidirectional=True)\n",
       "  (attention_layer): MultiheadAttention(\n",
       "    (out_proj): NonDynamicallyQuantizableLinear(in_features=128, out_features=128, bias=True)\n",
       "  )\n",
       "  (attention_layer2): MultiheadAttention(\n",
       "    (out_proj): NonDynamicallyQuantizableLinear(in_features=128, out_features=128, bias=True)\n",
       "  )\n",
       "  (keyW): Linear(in_features=256, out_features=128, bias=True)\n",
       "  (valueW): Linear(in_features=256, out_features=128, bias=True)\n",
       "  (queryW): Linear(in_features=256, out_features=128, bias=True)\n",
       "  (keyW2): Linear(in_features=128, out_features=128, bias=True)\n",
       "  (valueW2): Linear(in_features=128, out_features=128, bias=True)\n",
       "  (queryW2): Linear(in_features=128, out_features=128, bias=True)\n",
       "  (output_hidden): Linear(in_features=128, out_features=128, bias=True)\n",
       "  (output_fc): Linear(in_features=128, out_features=1, bias=True)\n",
       "  (dropout3): Dropout(p=0.3, inplace=False)\n",
       "  (dropout2): Dropout(p=0.2, inplace=False)\n",
       ")"
      ]
     },
     "execution_count": 39,
     "metadata": {},
     "output_type": "execute_result"
    }
   ],
   "source": [
    "backbone = torch.load(SAVEPATH)\n",
    "tokenizer = DumbTokenizer(device)\n",
    "backbone.eval()"
   ]
  },
  {
   "cell_type": "code",
   "execution_count": 69,
   "metadata": {},
   "outputs": [
    {
     "data": {
      "text/plain": [
       "array([['Vorilhon told lawmakers that banning the development of human cloning was comparable to outlawing medical advances such \"antibiotics, blood transfusions, and vaccines.\"[REF] .',\n",
       "        'Biden supports federal funding for embryonic stem cell research and voted to expand development and voted against a 1998 ban on human cloning.']],\n",
       "      dtype=object)"
      ]
     },
     "execution_count": 69,
     "metadata": {},
     "output_type": "execute_result"
    }
   ],
   "source": [
    "df = pd.read_csv('data/test.csv')\n",
    "e = np.concatenate((df['evidence_1'].values, df['evidence_2'].values),axis=0)\n",
    "e = np.stack((df['evidence_1'].values, df['evidence_2'].values), axis=-1)\n",
    "e[:1]"
   ]
  },
  {
   "cell_type": "code",
   "execution_count": 56,
   "metadata": {},
   "outputs": [],
   "source": [
    "topics, evidences, procons, targets = get_datas(df)"
   ]
  },
  {
   "cell_type": "code",
   "execution_count": 57,
   "metadata": {},
   "outputs": [],
   "source": [
    "ev, top = make_model_datasets_test(topics[:1], evidences[:2], device, \n",
    "    'token_dictionary.pkl')"
   ]
  },
  {
   "cell_type": "code",
   "execution_count": 35,
   "metadata": {},
   "outputs": [
    {
     "name": "stdout",
     "output_type": "stream",
     "text": [
      "['Vorilhon told lawmakers that banning the development of human cloning was comparable to outlawing medical advances such \"antibiotics, blood transfusions, and vaccines.\"[REF] .'\n",
      " 'Costa Rica proposed the adoption of an international convention to ban all forms of human cloning.'\n",
      " 'Critics argue that the so-called free market reform policies - which the Bank advocates in many cases - in practice are often harmful to economic development if implemented badly, too quickly (\"shock therapy\"), in the wrong sequence, or in very weak, uncompetitive economies [REF].']\n",
      "['We should ban human cloning']\n"
     ]
    }
   ],
   "source": [
    "evidences.shape\n",
    "print(evidences[:3])\n",
    "print(topics[:1])"
   ]
  },
  {
   "cell_type": "code",
   "execution_count": null,
   "metadata": {},
   "outputs": [],
   "source": [
    "ev_to_topic = {}\n",
    "for i in range(0, len(evidences[:,0])):\n",
    "    ev_to_topic[evidences[i,0]] = (topics[i], procons[i][0])"
   ]
  }
 ],
 "metadata": {
  "interpreter": {
   "hash": "48ae2679b3aa7daf36deeb7ef9469ff22b6ce4e2add481362d3083a53af09d97"
  },
  "kernelspec": {
   "display_name": "Python 3.8.12 64-bit ('deberter': conda)",
   "language": "python",
   "name": "python3"
  },
  "language_info": {
   "codemirror_mode": {
    "name": "ipython",
    "version": 3
   },
   "file_extension": ".py",
   "mimetype": "text/x-python",
   "name": "python",
   "nbconvert_exporter": "python",
   "pygments_lexer": "ipython3",
   "version": "3.8.12"
  },
  "orig_nbformat": 4
 },
 "nbformat": 4,
 "nbformat_minor": 2
}
